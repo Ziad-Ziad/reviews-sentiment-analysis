{
 "cells": [
  {
   "cell_type": "markdown",
   "metadata": {},
   "source": [
    "# Scraping and analysing customer reviews to uncover findings for British Airways\n",
    "\n",
    "\n",
    "---\n",
    "The analysis involves web scraping, sentiment analysis and topic modeling.\n",
    "\n"
   ]
  },
  {
   "cell_type": "code",
   "execution_count": 1,
   "metadata": {},
   "outputs": [],
   "source": [
    "import requests\n",
    "from bs4 import BeautifulSoup\n",
    "import pandas as pd\n",
    "import matplotlib.pyplot as plt\n",
    "\n",
    "\n",
    "import nltk\n",
    "# nltk.download('vader_lexicon')\n",
    "from nltk.sentiment.vader import SentimentIntensityAnalyzer\n",
    "from nltk.corpus import stopwords\n",
    "from nltk.stem import WordNetLemmatizer\n",
    "from nltk.tokenize import word_tokenize\n",
    "import string\n",
    "from gensim import corpora, models\n"
   ]
  },
  {
   "cell_type": "markdown",
   "metadata": {},
   "source": [
    "## 1. Prepare\n"
   ]
  },
  {
   "cell_type": "code",
   "execution_count": 2,
   "metadata": {
    "scrolled": true
   },
   "outputs": [
    {
     "name": "stdout",
     "output_type": "stream",
     "text": [
      "Scraping page 1\n",
      "   ---> 100 total reviews\n",
      "Scraping page 2\n",
      "   ---> 200 total reviews\n",
      "Scraping page 3\n",
      "   ---> 300 total reviews\n",
      "Scraping page 4\n",
      "   ---> 400 total reviews\n",
      "Scraping page 5\n",
      "   ---> 500 total reviews\n",
      "Scraping page 6\n",
      "   ---> 600 total reviews\n",
      "Scraping page 7\n",
      "   ---> 700 total reviews\n",
      "Scraping page 8\n",
      "   ---> 800 total reviews\n",
      "Scraping page 9\n",
      "   ---> 900 total reviews\n",
      "Scraping page 10\n",
      "   ---> 1000 total reviews\n"
     ]
    }
   ],
   "source": [
    "base_url = \"https://www.airlinequality.com/airline-reviews/british-airways\"\n",
    "pages = 10\n",
    "page_size = 100\n",
    "\n",
    "reviews = []\n",
    "\n",
    "for i in range(1, pages + 1):\n",
    "\n",
    "    print(f\"Scraping page {i}\")\n",
    "\n",
    "    # URL to collect links from paginated data\n",
    "    url = f\"{base_url}/page/{i}/?sortby=post_date%3ADesc&pagesize={page_size}\"\n",
    "\n",
    "    # Collect HTML data from this page\n",
    "    response = requests.get(url)\n",
    "\n",
    "    # Parse content\n",
    "    content = response.content\n",
    "    parsed_content = BeautifulSoup(content, 'html.parser')\n",
    "    for para in parsed_content.find_all(\"div\", {\"class\": \"text_content\"}):\n",
    "        reviews.append(para.get_text())\n",
    "    \n",
    "    print(f\"   ---> {len(reviews)} total reviews\")"
   ]
  },
  {
   "cell_type": "markdown",
   "metadata": {},
   "source": [
    "## 2. Process"
   ]
  },
  {
   "cell_type": "code",
   "execution_count": 3,
   "metadata": {},
   "outputs": [],
   "source": [
    "orig = pd.DataFrame()\n",
    "orig[\"reviews\"] = reviews"
   ]
  },
  {
   "cell_type": "code",
   "execution_count": 4,
   "metadata": {},
   "outputs": [
    {
     "data": {
      "text/html": [
       "<div>\n",
       "<style scoped>\n",
       "    .dataframe tbody tr th:only-of-type {\n",
       "        vertical-align: middle;\n",
       "    }\n",
       "\n",
       "    .dataframe tbody tr th {\n",
       "        vertical-align: top;\n",
       "    }\n",
       "\n",
       "    .dataframe thead th {\n",
       "        text-align: right;\n",
       "    }\n",
       "</style>\n",
       "<table border=\"1\" class=\"dataframe\">\n",
       "  <thead>\n",
       "    <tr style=\"text-align: right;\">\n",
       "      <th></th>\n",
       "      <th>reviews</th>\n",
       "    </tr>\n",
       "  </thead>\n",
       "  <tbody>\n",
       "    <tr>\n",
       "      <th>0</th>\n",
       "      <td>✅ Trip Verified | A simple story with an unfor...</td>\n",
       "    </tr>\n",
       "    <tr>\n",
       "      <th>1</th>\n",
       "      <td>✅ Trip Verified |  Flight was delayed due to t...</td>\n",
       "    </tr>\n",
       "    <tr>\n",
       "      <th>2</th>\n",
       "      <td>Not Verified |  Fast and friendly check in (to...</td>\n",
       "    </tr>\n",
       "    <tr>\n",
       "      <th>3</th>\n",
       "      <td>✅ Trip Verified |  I don't understand why Brit...</td>\n",
       "    </tr>\n",
       "    <tr>\n",
       "      <th>4</th>\n",
       "      <td>Not Verified |  I'm sure that BA have graduall...</td>\n",
       "    </tr>\n",
       "    <tr>\n",
       "      <th>...</th>\n",
       "      <td>...</td>\n",
       "    </tr>\n",
       "    <tr>\n",
       "      <th>995</th>\n",
       "      <td>✅ Trip Verified |  British Airways is my favor...</td>\n",
       "    </tr>\n",
       "    <tr>\n",
       "      <th>996</th>\n",
       "      <td>✅ Trip Verified |  Rome to Newark via London. ...</td>\n",
       "    </tr>\n",
       "    <tr>\n",
       "      <th>997</th>\n",
       "      <td>✅ Trip Verified |  London Heathrow to New York...</td>\n",
       "    </tr>\n",
       "    <tr>\n",
       "      <th>998</th>\n",
       "      <td>Not Verified |  London Heathrow to Dubai. This...</td>\n",
       "    </tr>\n",
       "    <tr>\n",
       "      <th>999</th>\n",
       "      <td>✅ Trip Verified |  Heraklion to Gatwick. Left ...</td>\n",
       "    </tr>\n",
       "  </tbody>\n",
       "</table>\n",
       "<p>1000 rows × 1 columns</p>\n",
       "</div>"
      ],
      "text/plain": [
       "                                               reviews\n",
       "0    ✅ Trip Verified | A simple story with an unfor...\n",
       "1    ✅ Trip Verified |  Flight was delayed due to t...\n",
       "2    Not Verified |  Fast and friendly check in (to...\n",
       "3    ✅ Trip Verified |  I don't understand why Brit...\n",
       "4    Not Verified |  I'm sure that BA have graduall...\n",
       "..                                                 ...\n",
       "995  ✅ Trip Verified |  British Airways is my favor...\n",
       "996  ✅ Trip Verified |  Rome to Newark via London. ...\n",
       "997  ✅ Trip Verified |  London Heathrow to New York...\n",
       "998  Not Verified |  London Heathrow to Dubai. This...\n",
       "999  ✅ Trip Verified |  Heraklion to Gatwick. Left ...\n",
       "\n",
       "[1000 rows x 1 columns]"
      ]
     },
     "execution_count": 4,
     "metadata": {},
     "output_type": "execute_result"
    }
   ],
   "source": [
    "reviews = orig.copy()\n",
    "reviews"
   ]
  },
  {
   "cell_type": "code",
   "execution_count": 5,
   "metadata": {},
   "outputs": [
    {
     "data": {
      "text/plain": [
       "reviews    1000\n",
       "dtype: int64"
      ]
     },
     "execution_count": 5,
     "metadata": {},
     "output_type": "execute_result"
    }
   ],
   "source": [
    "reviews.nunique()"
   ]
  },
  {
   "cell_type": "markdown",
   "metadata": {},
   "source": [
    "There are no NaN values"
   ]
  },
  {
   "cell_type": "code",
   "execution_count": 6,
   "metadata": {},
   "outputs": [
    {
     "data": {
      "text/plain": [
       "reviews    0\n",
       "dtype: int64"
      ]
     },
     "execution_count": 6,
     "metadata": {},
     "output_type": "execute_result"
    }
   ],
   "source": [
    "\n",
    "reviews.isna().sum()"
   ]
  },
  {
   "cell_type": "markdown",
   "metadata": {},
   "source": [
    "__splitting the review into trip status and the actual review__<br>"
   ]
  },
  {
   "cell_type": "code",
   "execution_count": 7,
   "metadata": {},
   "outputs": [
    {
     "data": {
      "text/html": [
       "<div>\n",
       "<style scoped>\n",
       "    .dataframe tbody tr th:only-of-type {\n",
       "        vertical-align: middle;\n",
       "    }\n",
       "\n",
       "    .dataframe tbody tr th {\n",
       "        vertical-align: top;\n",
       "    }\n",
       "\n",
       "    .dataframe thead th {\n",
       "        text-align: right;\n",
       "    }\n",
       "</style>\n",
       "<table border=\"1\" class=\"dataframe\">\n",
       "  <thead>\n",
       "    <tr style=\"text-align: right;\">\n",
       "      <th></th>\n",
       "      <th>status</th>\n",
       "      <th>review</th>\n",
       "    </tr>\n",
       "  </thead>\n",
       "  <tbody>\n",
       "    <tr>\n",
       "      <th>0</th>\n",
       "      <td>Trip Verified</td>\n",
       "      <td>A simple story with an unfortunate outcome th...</td>\n",
       "    </tr>\n",
       "    <tr>\n",
       "      <th>1</th>\n",
       "      <td>Trip Verified</td>\n",
       "      <td>Flight was delayed due to the inbound flight...</td>\n",
       "    </tr>\n",
       "    <tr>\n",
       "      <th>2</th>\n",
       "      <td>Not Verified</td>\n",
       "      <td>Fast and friendly check in (total contrast t...</td>\n",
       "    </tr>\n",
       "    <tr>\n",
       "      <th>3</th>\n",
       "      <td>Trip Verified</td>\n",
       "      <td>I don't understand why British Airways is cl...</td>\n",
       "    </tr>\n",
       "    <tr>\n",
       "      <th>4</th>\n",
       "      <td>Not Verified</td>\n",
       "      <td>I'm sure that BA have gradually made their e...</td>\n",
       "    </tr>\n",
       "    <tr>\n",
       "      <th>...</th>\n",
       "      <td>...</td>\n",
       "      <td>...</td>\n",
       "    </tr>\n",
       "    <tr>\n",
       "      <th>995</th>\n",
       "      <td>Trip Verified</td>\n",
       "      <td>British Airways is my favorite airline. Boei...</td>\n",
       "    </tr>\n",
       "    <tr>\n",
       "      <th>996</th>\n",
       "      <td>Trip Verified</td>\n",
       "      <td>Rome to Newark via London. The first sector ...</td>\n",
       "    </tr>\n",
       "    <tr>\n",
       "      <th>997</th>\n",
       "      <td>Trip Verified</td>\n",
       "      <td>London Heathrow to New York JFK. The First W...</td>\n",
       "    </tr>\n",
       "    <tr>\n",
       "      <th>998</th>\n",
       "      <td>Not Verified</td>\n",
       "      <td>London Heathrow to Dubai. This was the first...</td>\n",
       "    </tr>\n",
       "    <tr>\n",
       "      <th>999</th>\n",
       "      <td>Trip Verified</td>\n",
       "      <td>Heraklion to Gatwick. Left my luggage behind...</td>\n",
       "    </tr>\n",
       "  </tbody>\n",
       "</table>\n",
       "<p>1000 rows × 2 columns</p>\n",
       "</div>"
      ],
      "text/plain": [
       "            status                                             review\n",
       "0    Trip Verified   A simple story with an unfortunate outcome th...\n",
       "1    Trip Verified    Flight was delayed due to the inbound flight...\n",
       "2     Not Verified    Fast and friendly check in (total contrast t...\n",
       "3    Trip Verified    I don't understand why British Airways is cl...\n",
       "4     Not Verified    I'm sure that BA have gradually made their e...\n",
       "..             ...                                                ...\n",
       "995  Trip Verified    British Airways is my favorite airline. Boei...\n",
       "996  Trip Verified    Rome to Newark via London. The first sector ...\n",
       "997  Trip Verified    London Heathrow to New York JFK. The First W...\n",
       "998   Not Verified    London Heathrow to Dubai. This was the first...\n",
       "999  Trip Verified    Heraklion to Gatwick. Left my luggage behind...\n",
       "\n",
       "[1000 rows x 2 columns]"
      ]
     },
     "execution_count": 7,
     "metadata": {},
     "output_type": "execute_result"
    }
   ],
   "source": [
    "# remove the ✅ and ❎ symbols and remove the whitespaces before and after them to get two unique trip status \n",
    "reviews['reviews'] = reviews['reviews'].str.replace('✅ ', '').str.replace('❎ ', '').str.replace('✅', '').str.replace('❎', '')\n",
    "\n",
    "reviews[['status', 'review']] = reviews[\"reviews\"].str.split(' \\|', n=1, expand=True)\n",
    "\n",
    "# remove the reviews columns in place \n",
    "reviews.drop('reviews', axis=1, inplace=True)\n",
    "reviews"
   ]
  },
  {
   "cell_type": "markdown",
   "metadata": {},
   "source": [
    "__Clean and preprocess the review column by removing punctations, convert all words to lowercase, etc.__"
   ]
  },
  {
   "cell_type": "code",
   "execution_count": 8,
   "metadata": {},
   "outputs": [
    {
     "name": "stderr",
     "output_type": "stream",
     "text": [
      "[nltk_data] Downloading package punkt to /Users/admin/nltk_data...\n",
      "[nltk_data]   Package punkt is already up-to-date!\n",
      "[nltk_data] Downloading package wordnet to /Users/admin/nltk_data...\n",
      "[nltk_data]   Package wordnet is already up-to-date!\n",
      "[nltk_data] Downloading package stopwords to /Users/admin/nltk_data...\n",
      "[nltk_data]   Package stopwords is already up-to-date!\n"
     ]
    },
    {
     "data": {
      "text/html": [
       "<div>\n",
       "<style scoped>\n",
       "    .dataframe tbody tr th:only-of-type {\n",
       "        vertical-align: middle;\n",
       "    }\n",
       "\n",
       "    .dataframe tbody tr th {\n",
       "        vertical-align: top;\n",
       "    }\n",
       "\n",
       "    .dataframe thead th {\n",
       "        text-align: right;\n",
       "    }\n",
       "</style>\n",
       "<table border=\"1\" class=\"dataframe\">\n",
       "  <thead>\n",
       "    <tr style=\"text-align: right;\">\n",
       "      <th></th>\n",
       "      <th>status</th>\n",
       "      <th>review</th>\n",
       "      <th>processed_review</th>\n",
       "    </tr>\n",
       "  </thead>\n",
       "  <tbody>\n",
       "    <tr>\n",
       "      <th>0</th>\n",
       "      <td>Trip Verified</td>\n",
       "      <td>A simple story with an unfortunate outcome th...</td>\n",
       "      <td>simple story unfortunate outcome really could ...</td>\n",
       "    </tr>\n",
       "    <tr>\n",
       "      <th>1</th>\n",
       "      <td>Trip Verified</td>\n",
       "      <td>Flight was delayed due to the inbound flight...</td>\n",
       "      <td>flight delayed due inbound flight arriving lat...</td>\n",
       "    </tr>\n",
       "    <tr>\n",
       "      <th>2</th>\n",
       "      <td>Not Verified</td>\n",
       "      <td>Fast and friendly check in (total contrast t...</td>\n",
       "      <td>fast friendly check total contrast gatwick con...</td>\n",
       "    </tr>\n",
       "    <tr>\n",
       "      <th>3</th>\n",
       "      <td>Trip Verified</td>\n",
       "      <td>I don't understand why British Airways is cl...</td>\n",
       "      <td>dont understand british airway classified 4 st...</td>\n",
       "    </tr>\n",
       "    <tr>\n",
       "      <th>4</th>\n",
       "      <td>Not Verified</td>\n",
       "      <td>I'm sure that BA have gradually made their e...</td>\n",
       "      <td>im sure ba gradually made economy experience b...</td>\n",
       "    </tr>\n",
       "    <tr>\n",
       "      <th>...</th>\n",
       "      <td>...</td>\n",
       "      <td>...</td>\n",
       "      <td>...</td>\n",
       "    </tr>\n",
       "    <tr>\n",
       "      <th>995</th>\n",
       "      <td>Trip Verified</td>\n",
       "      <td>British Airways is my favorite airline. Boei...</td>\n",
       "      <td>british airway favorite airline boeing 777 21 ...</td>\n",
       "    </tr>\n",
       "    <tr>\n",
       "      <th>996</th>\n",
       "      <td>Trip Verified</td>\n",
       "      <td>Rome to Newark via London. The first sector ...</td>\n",
       "      <td>rome newark via london first sector a319 fligh...</td>\n",
       "    </tr>\n",
       "    <tr>\n",
       "      <th>997</th>\n",
       "      <td>Trip Verified</td>\n",
       "      <td>London Heathrow to New York JFK. The First W...</td>\n",
       "      <td>london heathrow new york jfk first wing termin...</td>\n",
       "    </tr>\n",
       "    <tr>\n",
       "      <th>998</th>\n",
       "      <td>Not Verified</td>\n",
       "      <td>London Heathrow to Dubai. This was the first...</td>\n",
       "      <td>london heathrow dubai first time flown first c...</td>\n",
       "    </tr>\n",
       "    <tr>\n",
       "      <th>999</th>\n",
       "      <td>Trip Verified</td>\n",
       "      <td>Heraklion to Gatwick. Left my luggage behind...</td>\n",
       "      <td>heraklion gatwick left luggage behind belt mis...</td>\n",
       "    </tr>\n",
       "  </tbody>\n",
       "</table>\n",
       "<p>1000 rows × 3 columns</p>\n",
       "</div>"
      ],
      "text/plain": [
       "            status                                             review  \\\n",
       "0    Trip Verified   A simple story with an unfortunate outcome th...   \n",
       "1    Trip Verified    Flight was delayed due to the inbound flight...   \n",
       "2     Not Verified    Fast and friendly check in (total contrast t...   \n",
       "3    Trip Verified    I don't understand why British Airways is cl...   \n",
       "4     Not Verified    I'm sure that BA have gradually made their e...   \n",
       "..             ...                                                ...   \n",
       "995  Trip Verified    British Airways is my favorite airline. Boei...   \n",
       "996  Trip Verified    Rome to Newark via London. The first sector ...   \n",
       "997  Trip Verified    London Heathrow to New York JFK. The First W...   \n",
       "998   Not Verified    London Heathrow to Dubai. This was the first...   \n",
       "999  Trip Verified    Heraklion to Gatwick. Left my luggage behind...   \n",
       "\n",
       "                                      processed_review  \n",
       "0    simple story unfortunate outcome really could ...  \n",
       "1    flight delayed due inbound flight arriving lat...  \n",
       "2    fast friendly check total contrast gatwick con...  \n",
       "3    dont understand british airway classified 4 st...  \n",
       "4    im sure ba gradually made economy experience b...  \n",
       "..                                                 ...  \n",
       "995  british airway favorite airline boeing 777 21 ...  \n",
       "996  rome newark via london first sector a319 fligh...  \n",
       "997  london heathrow new york jfk first wing termin...  \n",
       "998  london heathrow dubai first time flown first c...  \n",
       "999  heraklion gatwick left luggage behind belt mis...  \n",
       "\n",
       "[1000 rows x 3 columns]"
      ]
     },
     "execution_count": 8,
     "metadata": {},
     "output_type": "execute_result"
    }
   ],
   "source": [
    "\n",
    "\n",
    "# Download NLTK resources \n",
    "nltk.download('punkt')\n",
    "nltk.download('wordnet')\n",
    "nltk.download('stopwords')\n",
    "\n",
    "# Text preprocessing function\n",
    "def preprocess_review(review):\n",
    "    \n",
    "    # Convert to lowercase\n",
    "    review = review.lower()\n",
    "\n",
    "    # Remove punctuation\n",
    "    review = review.translate(str.maketrans('', '', string.punctuation))\n",
    "\n",
    "    # Tokenize the text\n",
    "    review = word_tokenize(review)\n",
    "\n",
    "    # Remove stopwords like this, is, a, an, etc. as it has not effect on the sentance analysis \n",
    "    # we want to reduce the dims and focus on the meanning of the individuals words and such stopwords has no meaning in the analysis \n",
    "    stop_words = set(stopwords.words('english'))\n",
    "    words = [word for word in review if word not in stop_words]\n",
    "\n",
    "    # Lemmatize the words\n",
    "    #Reduce the words variantion for instance playing => play\n",
    "    # without limitizing the words such words  (playing and play) will be treated as diff words \n",
    "    lemmatizer = WordNetLemmatizer()\n",
    "    words = [lemmatizer.lemmatize(word) for word in words]\n",
    "    \n",
    "    # the output of tokenize  is a list so we wanna join this list back to form a sentence \n",
    "    # Join the words back to form sentences\n",
    "    processed_review = ' '.join(words)\n",
    "    return processed_review\n",
    "\n",
    "# Apply preprocessing to the 'review_text' column\n",
    "reviews['processed_review'] = reviews['review'].apply(preprocess_review)\n",
    "reviews"
   ]
  },
  {
   "cell_type": "code",
   "execution_count": 9,
   "metadata": {},
   "outputs": [
    {
     "data": {
      "text/plain": [
       "array(['Trip Verified', 'Not Verified'], dtype=object)"
      ]
     },
     "execution_count": 9,
     "metadata": {},
     "output_type": "execute_result"
    }
   ],
   "source": [
    "reviews['status'].unique()"
   ]
  },
  {
   "cell_type": "markdown",
   "metadata": {},
   "source": [
    "__Perform sentiment analysis and sitting a threshold__  \n",
    "```'positive' if score > 0.01 else ('negative' if score < -0.01 else 'neutral')```"
   ]
  },
  {
   "cell_type": "code",
   "execution_count": 10,
   "metadata": {},
   "outputs": [
    {
     "data": {
      "text/html": [
       "<div>\n",
       "<style scoped>\n",
       "    .dataframe tbody tr th:only-of-type {\n",
       "        vertical-align: middle;\n",
       "    }\n",
       "\n",
       "    .dataframe tbody tr th {\n",
       "        vertical-align: top;\n",
       "    }\n",
       "\n",
       "    .dataframe thead th {\n",
       "        text-align: right;\n",
       "    }\n",
       "</style>\n",
       "<table border=\"1\" class=\"dataframe\">\n",
       "  <thead>\n",
       "    <tr style=\"text-align: right;\">\n",
       "      <th></th>\n",
       "      <th>status</th>\n",
       "      <th>review</th>\n",
       "      <th>processed_review</th>\n",
       "      <th>sentiment_score</th>\n",
       "      <th>sentiment_category</th>\n",
       "    </tr>\n",
       "  </thead>\n",
       "  <tbody>\n",
       "    <tr>\n",
       "      <th>0</th>\n",
       "      <td>Trip Verified</td>\n",
       "      <td>A simple story with an unfortunate outcome th...</td>\n",
       "      <td>simple story unfortunate outcome really could ...</td>\n",
       "      <td>0.8107</td>\n",
       "      <td>positive</td>\n",
       "    </tr>\n",
       "    <tr>\n",
       "      <th>1</th>\n",
       "      <td>Trip Verified</td>\n",
       "      <td>Flight was delayed due to the inbound flight...</td>\n",
       "      <td>flight delayed due inbound flight arriving lat...</td>\n",
       "      <td>-0.2732</td>\n",
       "      <td>negative</td>\n",
       "    </tr>\n",
       "    <tr>\n",
       "      <th>2</th>\n",
       "      <td>Not Verified</td>\n",
       "      <td>Fast and friendly check in (total contrast t...</td>\n",
       "      <td>fast friendly check total contrast gatwick con...</td>\n",
       "      <td>0.9790</td>\n",
       "      <td>positive</td>\n",
       "    </tr>\n",
       "    <tr>\n",
       "      <th>3</th>\n",
       "      <td>Trip Verified</td>\n",
       "      <td>I don't understand why British Airways is cl...</td>\n",
       "      <td>dont understand british airway classified 4 st...</td>\n",
       "      <td>0.9168</td>\n",
       "      <td>positive</td>\n",
       "    </tr>\n",
       "    <tr>\n",
       "      <th>4</th>\n",
       "      <td>Not Verified</td>\n",
       "      <td>I'm sure that BA have gradually made their e...</td>\n",
       "      <td>im sure ba gradually made economy experience b...</td>\n",
       "      <td>0.8008</td>\n",
       "      <td>positive</td>\n",
       "    </tr>\n",
       "    <tr>\n",
       "      <th>5</th>\n",
       "      <td>Trip Verified</td>\n",
       "      <td>Customer Service does not exist. One world e...</td>\n",
       "      <td>customer service exist one world emerald frequ...</td>\n",
       "      <td>0.5932</td>\n",
       "      <td>positive</td>\n",
       "    </tr>\n",
       "    <tr>\n",
       "      <th>6</th>\n",
       "      <td>Trip Verified</td>\n",
       "      <td>Another really great pair of flights, on time...</td>\n",
       "      <td>another really great pair flight time problem ...</td>\n",
       "      <td>0.9829</td>\n",
       "      <td>positive</td>\n",
       "    </tr>\n",
       "    <tr>\n",
       "      <th>7</th>\n",
       "      <td>Not Verified</td>\n",
       "      <td>Our A380 developed a fault taxiing to the ru...</td>\n",
       "      <td>a380 developed fault taxiing runway returned g...</td>\n",
       "      <td>-0.5710</td>\n",
       "      <td>negative</td>\n",
       "    </tr>\n",
       "    <tr>\n",
       "      <th>8</th>\n",
       "      <td>Not Verified</td>\n",
       "      <td>Horrible airline. Does not care about their c...</td>\n",
       "      <td>horrible airline care customer used decent sin...</td>\n",
       "      <td>-0.0772</td>\n",
       "      <td>negative</td>\n",
       "    </tr>\n",
       "    <tr>\n",
       "      <th>9</th>\n",
       "      <td>Trip Verified</td>\n",
       "      <td>My family and I have flown mostly on British...</td>\n",
       "      <td>family flown mostly british airway last 30 yea...</td>\n",
       "      <td>0.9421</td>\n",
       "      <td>positive</td>\n",
       "    </tr>\n",
       "    <tr>\n",
       "      <th>10</th>\n",
       "      <td>Trip Verified</td>\n",
       "      <td>This has been by far the worst service I hav...</td>\n",
       "      <td>far worst service plane obvious flying economy...</td>\n",
       "      <td>0.1896</td>\n",
       "      <td>positive</td>\n",
       "    </tr>\n",
       "    <tr>\n",
       "      <th>11</th>\n",
       "      <td>Trip Verified</td>\n",
       "      <td>In Nov 2022 I booked and paid for a return j...</td>\n",
       "      <td>nov 2022 booked paid return journey new zealan...</td>\n",
       "      <td>-0.5358</td>\n",
       "      <td>negative</td>\n",
       "    </tr>\n",
       "    <tr>\n",
       "      <th>12</th>\n",
       "      <td>Not Verified</td>\n",
       "      <td>BA is not treating its premium economy passen...</td>\n",
       "      <td>ba treating premium economy passenger respect ...</td>\n",
       "      <td>0.4404</td>\n",
       "      <td>positive</td>\n",
       "    </tr>\n",
       "    <tr>\n",
       "      <th>13</th>\n",
       "      <td>Trip Verified</td>\n",
       "      <td>24 hours before our departure on BA059 to Ca...</td>\n",
       "      <td>24 hour departure ba059 cape town heathrow thu...</td>\n",
       "      <td>-0.7346</td>\n",
       "      <td>negative</td>\n",
       "    </tr>\n",
       "    <tr>\n",
       "      <th>14</th>\n",
       "      <td>Trip Verified</td>\n",
       "      <td>We arrived at Heathrow at 0600 to find our f...</td>\n",
       "      <td>arrived heathrow 0600 find flight ibiza cancel...</td>\n",
       "      <td>-0.7430</td>\n",
       "      <td>negative</td>\n",
       "    </tr>\n",
       "    <tr>\n",
       "      <th>15</th>\n",
       "      <td>Trip Verified</td>\n",
       "      <td>Original flight was cancelled with no explan...</td>\n",
       "      <td>original flight cancelled explanation represen...</td>\n",
       "      <td>0.6908</td>\n",
       "      <td>positive</td>\n",
       "    </tr>\n",
       "  </tbody>\n",
       "</table>\n",
       "</div>"
      ],
      "text/plain": [
       "           status                                             review  \\\n",
       "0   Trip Verified   A simple story with an unfortunate outcome th...   \n",
       "1   Trip Verified    Flight was delayed due to the inbound flight...   \n",
       "2    Not Verified    Fast and friendly check in (total contrast t...   \n",
       "3   Trip Verified    I don't understand why British Airways is cl...   \n",
       "4    Not Verified    I'm sure that BA have gradually made their e...   \n",
       "5   Trip Verified    Customer Service does not exist. One world e...   \n",
       "6   Trip Verified   Another really great pair of flights, on time...   \n",
       "7    Not Verified    Our A380 developed a fault taxiing to the ru...   \n",
       "8    Not Verified   Horrible airline. Does not care about their c...   \n",
       "9   Trip Verified    My family and I have flown mostly on British...   \n",
       "10  Trip Verified    This has been by far the worst service I hav...   \n",
       "11  Trip Verified    In Nov 2022 I booked and paid for a return j...   \n",
       "12   Not Verified   BA is not treating its premium economy passen...   \n",
       "13  Trip Verified    24 hours before our departure on BA059 to Ca...   \n",
       "14  Trip Verified    We arrived at Heathrow at 0600 to find our f...   \n",
       "15  Trip Verified    Original flight was cancelled with no explan...   \n",
       "\n",
       "                                     processed_review  sentiment_score  \\\n",
       "0   simple story unfortunate outcome really could ...           0.8107   \n",
       "1   flight delayed due inbound flight arriving lat...          -0.2732   \n",
       "2   fast friendly check total contrast gatwick con...           0.9790   \n",
       "3   dont understand british airway classified 4 st...           0.9168   \n",
       "4   im sure ba gradually made economy experience b...           0.8008   \n",
       "5   customer service exist one world emerald frequ...           0.5932   \n",
       "6   another really great pair flight time problem ...           0.9829   \n",
       "7   a380 developed fault taxiing runway returned g...          -0.5710   \n",
       "8   horrible airline care customer used decent sin...          -0.0772   \n",
       "9   family flown mostly british airway last 30 yea...           0.9421   \n",
       "10  far worst service plane obvious flying economy...           0.1896   \n",
       "11  nov 2022 booked paid return journey new zealan...          -0.5358   \n",
       "12  ba treating premium economy passenger respect ...           0.4404   \n",
       "13  24 hour departure ba059 cape town heathrow thu...          -0.7346   \n",
       "14  arrived heathrow 0600 find flight ibiza cancel...          -0.7430   \n",
       "15  original flight cancelled explanation represen...           0.6908   \n",
       "\n",
       "   sentiment_category  \n",
       "0            positive  \n",
       "1            negative  \n",
       "2            positive  \n",
       "3            positive  \n",
       "4            positive  \n",
       "5            positive  \n",
       "6            positive  \n",
       "7            negative  \n",
       "8            negative  \n",
       "9            positive  \n",
       "10           positive  \n",
       "11           negative  \n",
       "12           positive  \n",
       "13           negative  \n",
       "14           negative  \n",
       "15           positive  "
      ]
     },
     "execution_count": 10,
     "metadata": {},
     "output_type": "execute_result"
    }
   ],
   "source": [
    "from nltk.sentiment.vader import SentimentIntensityAnalyzer\n",
    "\n",
    "# Initialize the SentimentIntensityAnalyzer\n",
    "sia = SentimentIntensityAnalyzer()\n",
    "\n",
    "# Calculate sentiment scores for each review\n",
    "reviews['sentiment_score'] = reviews['processed_review'].apply(lambda text: sia.polarity_scores(text)['compound'])\n",
    "\n",
    "# Classify reviews as positive, negative, or neutral based on the sentiment score\n",
    "reviews['sentiment_category'] = reviews['sentiment_score'].apply(lambda score: 'positive' if score > 0.01 else ('negative' if score < -0.01 else 'neutral'))\n",
    "\n",
    "# Display the first 16 rows of the DataFrame\n",
    "reviews.head(16)\n"
   ]
  },
  {
   "cell_type": "markdown",
   "metadata": {},
   "source": [
    "__Type casting to ensure that our data is valid and consistant__"
   ]
  },
  {
   "cell_type": "code",
   "execution_count": 11,
   "metadata": {},
   "outputs": [],
   "source": [
    "reviews['status'] = reviews['status'].astype('string')\n",
    "reviews['review'] = reviews['review'].astype('string')\n",
    "reviews['processed_review'] = reviews['processed_review'].astype('string')\n",
    "reviews['sentiment_category'] = reviews['sentiment_category'].astype('string')"
   ]
  },
  {
   "cell_type": "markdown",
   "metadata": {},
   "source": [
    "## 3. Analyze"
   ]
  },
  {
   "cell_type": "code",
   "execution_count": 12,
   "metadata": {},
   "outputs": [
    {
     "name": "stdout",
     "output_type": "stream",
     "text": [
      "<class 'pandas.core.frame.DataFrame'>\n",
      "RangeIndex: 1000 entries, 0 to 999\n",
      "Data columns (total 5 columns):\n",
      " #   Column              Non-Null Count  Dtype  \n",
      "---  ------              --------------  -----  \n",
      " 0   status              1000 non-null   string \n",
      " 1   review              1000 non-null   string \n",
      " 2   processed_review    1000 non-null   string \n",
      " 3   sentiment_score     1000 non-null   float64\n",
      " 4   sentiment_category  1000 non-null   string \n",
      "dtypes: float64(1), string(4)\n",
      "memory usage: 39.2 KB\n"
     ]
    }
   ],
   "source": [
    "reviews.info()"
   ]
  },
  {
   "cell_type": "markdown",
   "metadata": {},
   "source": [
    "We see that the overall sentiment_category positive and negative are almost equal which alligns with the overall  Customer rating 5/10 in the airlinequality reviews.\n"
   ]
  },
  {
   "cell_type": "code",
   "execution_count": 13,
   "metadata": {},
   "outputs": [
    {
     "data": {
      "text/plain": [
       "count              1000\n",
       "unique                2\n",
       "top       Trip Verified\n",
       "freq                798\n",
       "Name: status, dtype: object"
      ]
     },
     "execution_count": 13,
     "metadata": {},
     "output_type": "execute_result"
    }
   ],
   "source": [
    "reviews['status'].describe()"
   ]
  },
  {
   "cell_type": "code",
   "execution_count": 14,
   "metadata": {},
   "outputs": [
    {
     "data": {
      "text/plain": [
       "count         1000\n",
       "unique           3\n",
       "top       positive\n",
       "freq           586\n",
       "Name: sentiment_category, dtype: object"
      ]
     },
     "execution_count": 14,
     "metadata": {},
     "output_type": "execute_result"
    }
   ],
   "source": [
    "reviews['sentiment_category'].describe()"
   ]
  },
  {
   "cell_type": "code",
   "execution_count": 15,
   "metadata": {},
   "outputs": [
    {
     "data": {
      "text/plain": [
       "positive    586\n",
       "negative    406\n",
       "neutral       8\n",
       "Name: sentiment_category, dtype: Int64"
      ]
     },
     "execution_count": 15,
     "metadata": {},
     "output_type": "execute_result"
    }
   ],
   "source": [
    "reviews['sentiment_category'].value_counts()"
   ]
  },
  {
   "cell_type": "code",
   "execution_count": 16,
   "metadata": {},
   "outputs": [
    {
     "data": {
      "text/plain": [
       "positive    0.586\n",
       "negative    0.406\n",
       "neutral     0.008\n",
       "Name: sentiment_category, dtype: Float64"
      ]
     },
     "execution_count": 16,
     "metadata": {},
     "output_type": "execute_result"
    }
   ],
   "source": [
    "reviews['sentiment_category'].value_counts(normalize=True)"
   ]
  },
  {
   "cell_type": "code",
   "execution_count": 17,
   "metadata": {},
   "outputs": [
    {
     "name": "stdout",
     "output_type": "stream",
     "text": [
      "                                                review  sentiment_score\n",
      "694    Hong Kong to Copenhagen via London. The whol...          -0.9935\n",
      "770    London to Nashville. The worst airline Trans...          -0.9925\n",
      "202    We boarded our flight at Edinburgh to London...          -0.9876\n",
      "59     Words fail to describe this last awful fligh...          -0.9858\n",
      "156   Probably the worst business class experience ...          -0.9845\n",
      "..                                                 ...              ...\n",
      "965    Abu Dhabi to London. Although a BA flight, t...          -0.8683\n",
      "918    Athens to Los Angeles via London. Worst flig...          -0.8667\n",
      "625    London Gatwick to Salzburg with British Airw...          -0.8658\n",
      "171    Missing baggage customer service was the wor...          -0.8625\n",
      "897    Antigua to Gatwick. Apparently it is necessa...          -0.8592\n",
      "\n",
      "[100 rows x 2 columns]\n"
     ]
    }
   ],
   "source": [
    "# Sort the DataFrame by sentiment score \n",
    "reviews_sorted = reviews.sort_values(by='sentiment_score', ascending=True)\n",
    "\n",
    "# top negative reviews ( will include 100 of the top negative reviews )\n",
    "top_negative_reviews = reviews_sorted[reviews_sorted['sentiment_category'] == 'negative'].head(100)\n",
    "\n",
    "print(top_negative_reviews[['review', 'sentiment_score']])\n"
   ]
  },
  {
   "cell_type": "markdown",
   "metadata": {},
   "source": [
    "__(TOPIC MODELING) Extract the top words associated with the negative reviews using LDA model__"
   ]
  },
  {
   "cell_type": "markdown",
   "metadata": {},
   "source": [
    "__The top words represent issues related to the service, food, staff and customer support and service.__\n"
   ]
  },
  {
   "cell_type": "code",
   "execution_count": 18,
   "metadata": {},
   "outputs": [
    {
     "name": "stdout",
     "output_type": "stream",
     "text": [
      "(0, '0.029*\"flight\" + 0.015*\"ba\" + 0.012*\"’\" + 0.010*\"customer\" + 0.009*\"hour\"')\n",
      "(1, '0.024*\"seat\" + 0.018*\"flight\" + 0.014*\"class\" + 0.013*\"ba\" + 0.013*\"business\"')\n",
      "(2, '0.028*\"flight\" + 0.013*\"ba\" + 0.009*\"hour\" + 0.009*\"time\" + 0.009*\"london\"')\n",
      "(3, '0.023*\"flight\" + 0.012*\"good\" + 0.012*\"service\" + 0.011*\"seat\" + 0.011*\"ba\"')\n",
      "(4, '0.024*\"flight\" + 0.021*\"ba\" + 0.010*\"london\" + 0.010*\"seat\" + 0.006*\"airline\"')\n"
     ]
    }
   ],
   "source": [
    "\n",
    "tokenized_reviews = [word_tokenize(review) for review in reviews['processed_review']]\n",
    "\n",
    "dictionary = corpora.Dictionary(tokenized_reviews)\n",
    "\n",
    "bow_corpus = [dictionary.doc2bow(tokens) for tokens in tokenized_reviews]\n",
    "\n",
    "lda_model = models.LdaModel(bow_corpus, num_topics=5, id2word=dictionary, passes=10)\n",
    "\n",
    "# top words for each topic\n",
    "topics = lda_model.print_topics(num_words=5)\n",
    "\n",
    "for topic in topics:\n",
    "    print(topic)"
   ]
  },
  {
   "cell_type": "markdown",
   "metadata": {},
   "source": [
    "## 4. Share"
   ]
  },
  {
   "cell_type": "code",
   "execution_count": 19,
   "metadata": {},
   "outputs": [
    {
     "data": {
      "image/png": "[encoded data removed]",
      "text/plain": [
       "<Figure size 640x480 with 1 Axes>"
      ]
     },
     "metadata": {},
     "output_type": "display_data"
    }
   ],
   "source": [
    "sentiment_status_counts = reviews.groupby(['status', 'sentiment_category']).size().unstack()\n",
    "\n",
    "colors = ['#ff7f0e', '#2ca02c', '#1f77b4']\n",
    "\n",
    "# display \"Trip Verified\"  first\n",
    "sentiment_status_counts = sentiment_status_counts.loc[['Trip Verified', 'Not Verified']]\n",
    "\n",
    "bottom = None\n",
    "for i, sentiment_category in enumerate(sentiment_status_counts.columns):\n",
    "    plt.bar(sentiment_status_counts.index, sentiment_status_counts[sentiment_category], color=colors[i], label=sentiment_category, bottom=bottom)\n",
    "    if bottom is None:\n",
    "        bottom = sentiment_status_counts[sentiment_category].values\n",
    "    else:\n",
    "        bottom += sentiment_status_counts[sentiment_category].values\n",
    "\n",
    "# Set labels and title\n",
    "plt.ylabel('Count')\n",
    "plt.title('Sentiment Category Trip Status')\n",
    "plt.legend(title='Sentiment Category')\n",
    "\n",
    "data_source = 'Source: airlinequality.com'\n",
    "plt.text(0, -100, data_source, ha='right', fontsize=8)\n",
    "\n",
    "# Show the plot\n",
    "plt.show()\n"
   ]
  },
  {
   "cell_type": "code",
   "execution_count": 20,
   "metadata": {},
   "outputs": [
    {
     "data": {
      "image/png": "[encoded data removed]",
      "text/plain": [
       "<Figure size 640x480 with 1 Axes>"
      ]
     },
     "metadata": {},
     "output_type": "display_data"
    }
   ],
   "source": [
    "\n",
    "\n",
    "sentiment_counts = reviews['sentiment_category'].value_counts()\n",
    "plt.bar(sentiment_counts.index, sentiment_counts.values)\n",
    "plt.ylabel('Count')\n",
    "plt.title('Sentiment Distribution for BA Reviews')\n",
    "\n",
    "data_source = 'Source: airlinequality.com'\n",
    "plt.text(0, -100, data_source, ha='center', fontsize=8)\n",
    "\n",
    "plt.show()\n",
    "\n"
   ]
  },
  {
   "cell_type": "code",
   "execution_count": 21,
   "metadata": {},
   "outputs": [
    {
     "data": {
      "image/png": "[encoded data removed]",
      "text/plain": [
       "<Figure size 640x480 with 1 Axes>"
      ]
     },
     "metadata": {},
     "output_type": "display_data"
    }
   ],
   "source": [
    "# Filter positive and negative reviews\n",
    "positive_reviews = reviews[reviews['sentiment_category'] == 'positive']\n",
    "negative_reviews = reviews[reviews['sentiment_category'] == 'negative']\n",
    "\n",
    "# Calculate the length of each review text\n",
    "positive_review_lengths = positive_reviews['processed_review'].apply(lambda x: len(x.split()))\n",
    "negative_review_lengths = negative_reviews['processed_review'].apply(lambda x: len(x.split()))\n",
    "\n",
    "# Create histograms for review length distribution\n",
    "plt.hist(positive_review_lengths, bins=30, label='Positive')\n",
    "plt.hist(negative_review_lengths, bins=30, label='Negative')\n",
    "\n",
    "# Set labels and title\n",
    "plt.xlabel('Review Length')\n",
    "plt.ylabel('Frequency')\n",
    "plt.title('Review Length Distribution for Positive and Negative Reviews')\n",
    "plt.legend()\n",
    "\n",
    "\n",
    "# Show the plot\n",
    "plt.show()\n"
   ]
  },
  {
   "cell_type": "markdown",
   "metadata": {},
   "source": [
    "## 5. Act"
   ]
  },
  {
   "cell_type": "markdown",
   "metadata": {},
   "source": [
    "__Recommendations:__\n",
    "\n",
    "Based on the words collected from the LDA model and me exploring the df reviews.\n",
    "1. Focus on Improving Customer Service:\n",
    " - Address customer service issues to improve the overall customer experience by hiring more representatives to provide a faster response rate and solve the issues on time\n",
    " - Find the gaps in the team and provide training to handle complaints and requests more effectively.\n",
    "2. Identify reasons for flight delays and implement strategies to minimize them.\n",
    "3. Improve the seats' comfort:\n",
    " - Review seating arrangements and comfort satisfaction.\n",
    " - Offer options for seat upgrades.\n"
   ]
  },
  {
   "cell_type": "code",
   "execution_count": 22,
   "metadata": {},
   "outputs": [],
   "source": [
    "reviews.to_csv(\"./BA_reviews.csv\")"
   ]
  }
 ],
 "metadata": {
  "kernelspec": {
   "display_name": "Python 3 (ipykernel)",
   "language": "python",
   "name": "python3"
  },
  "language_info": {
   "codemirror_mode": {
    "name": "ipython",
    "version": 3
   },
   "file_extension": ".py",
   "mimetype": "text/x-python",
   "name": "python",
   "nbconvert_exporter": "python",
   "pygments_lexer": "ipython3",
   "version": "3.9.13"
  },
  "vscode": {
   "interpreter": {
    "hash": "4f7924c4c56b083e0e50eadfe7ef592a7a8ef70df33a0047f82280e6be1afe15"
   }
  }
 },
 "nbformat": 4,
 "nbformat_minor": 2
}
